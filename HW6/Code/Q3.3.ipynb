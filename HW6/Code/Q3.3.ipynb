{
  "nbformat": 4,
  "nbformat_minor": 0,
  "metadata": {
    "colab": {
      "provenance": [],
      "toc_visible": true
    },
    "kernelspec": {
      "name": "python3",
      "display_name": "Python 3"
    },
    "language_info": {
      "name": "python"
    }
  },
  "cells": [
    {
      "cell_type": "code",
      "execution_count": null,
      "metadata": {
        "id": "_yP_tbhFMEJg"
      },
      "outputs": [],
      "source": [
        "import torch\n",
        "import numpy as np\n",
        "from sklearn.datasets import load_breast_cancer\n",
        "import torch.nn as nn\n",
        "import matplotlib.pyplot as plt\n",
        "import pandas as pd\n",
        "from sklearn.model_selection import train_test_split\n",
        "from scipy.special import comb\n",
        "\n"
      ]
    },
    {
      "cell_type": "code",
      "source": [
        "data = load_breast_cancer()\n",
        "X_train = data['data']\n",
        "Y_train = data['target']\n",
        "print(X_train.shape)\n",
        "X = torch.FloatTensor(X_train)\n",
        "labels = torch.FloatTensor(Y_train)\n",
        "labels = torch.where(labels == 0, -1, 1);\n",
        "\n",
        "\n",
        "X_train, X_test, Y_train, Y_test = train_test_split(X, labels,test_size=(1-5/6), random_state=73)\n",
        "\n",
        "X_train, X_val, Y_train, Y_val = train_test_split(X_train, Y_train,test_size=(1-4/5), random_state=73)\n",
        "\n",
        "print(X_train.shape, X_test.shape, X_val.shape)\n",
        "df = pd.DataFrame(dict(x1=X_train[:, 0], x2=X_train[:, 1], y=Y_train))\n",
        "colors = {-1:'red', 1:'blue'}\n",
        "fig, ax = plt.subplots()\n",
        "grouped = df.groupby('y')\n",
        "for key, group in grouped:\n",
        "    group.plot(ax=ax, kind='scatter', x='x1', y='x2', label=key, color = colors[key])\n",
        "plt.show()\n",
        "\n",
        "df = pd.DataFrame(dict(x1=X_test[:, 0], x2=X_test[:, 1], y=Y_test))\n",
        "colors = {-1:'red', 1:'blue'}\n",
        "fig, ax = plt.subplots()\n",
        "grouped = df.groupby('y')\n",
        "for key, group in grouped:\n",
        "    group.plot(ax=ax, kind='scatter', x='x1', y='x2', label=key, color = colors[key])\n",
        "n_input_dim = X_train.shape[1]\n",
        "\n",
        "plt.show()"
      ],
      "metadata": {
        "colab": {
          "base_uri": "https://localhost:8080/",
          "height": 581
        },
        "id": "kWNMZm84MMDJ",
        "outputId": "901dcfd2-24a7-41c2-8f2e-541c23a81423"
      },
      "execution_count": null,
      "outputs": [
        {
          "output_type": "stream",
          "name": "stdout",
          "text": [
            "(569, 30)\n",
            "torch.Size([379, 30]) torch.Size([95, 30]) torch.Size([95, 30])\n"
          ]
        },
        {
          "output_type": "display_data",
          "data": {
            "text/plain": [
              "<Figure size 432x288 with 1 Axes>"
            ],
            "image/png": "[encoded data removed]"
          },
          "metadata": {
            "needs_background": "light"
          }
        },
        {
          "output_type": "display_data",
          "data": {
            "text/plain": [
              "<Figure size 432x288 with 1 Axes>"
            ],
            "image/png": "[encoded data removed]"
          },
          "metadata": {
            "needs_background": "light"
          }
        }
      ]
    },
    {
      "cell_type": "markdown",
      "source": [
        "**LinearSVM**"
      ],
      "metadata": {
        "id": "Ktqj62dOMt5O"
      }
    },
    {
      "cell_type": "code",
      "source": [
        "Y_train = torch.where(Y_train == 0, -1, 1)\n",
        "Y_test = torch.where(Y_test == 0, -1, 1)\n",
        "Y_val = torch.where(Y_val == 0, -1, 1)\n",
        "print(Y_train.shape, Y_test.shape, Y_val.shape)\n",
        "X_train = X_train.float()\n",
        "X_test = X_test.float()\n",
        "X_val = X_val.float()\n",
        "print(X_train.shape, X_test.shape, X_val.shape)\n",
        "\n",
        "class Generic_SVM_Loss(nn.modules.Module):    \n",
        "    def __init__(self):\n",
        "        super(Generic_SVM_Loss,self).__init__()\n",
        "    def forward(self, outputs, labels):\n",
        "        return torch.max(torch.zeros_like(labels), 1-labels*outputs).mean()\n",
        "\n",
        "def hinge_loss(x, y):\n",
        "    return torch.max(torch.zeros_like(y), 1-y*x).mean()"
      ],
      "metadata": {
        "id": "QRNjncOkMwnm"
      },
      "execution_count": null,
      "outputs": []
    },
    {
      "cell_type": "code",
      "source": [
        "#def poly(X, const,pow):\n",
        "#   return torch.pow(torch.matmul(X.t(),X) + const,pow)\n",
        "\n",
        "def poly(X, const,pow):\n",
        "    k = torch.zeros([X.size(0), int(comb(X.size(1) + pow, pow ))])\n",
        "    for i in range (X.size(1)):\n",
        "      k[:,i] = X[:,i] ** pow\n",
        "    \n",
        "    for i in range(X.size(1)):\n",
        "      for j in range(i+1,X.size(1)):\n",
        "        k[:,X.size(1) + i] = X[:,i] * X[:,j] \n",
        "    print(k.size())\n",
        "    return k\n",
        "\n",
        "def rbf(X, k, gamma):\n",
        "    return torch.exp(-gamma*(((X[:,None])-k)**2).sum(dim=2))\n",
        "\n",
        "\n",
        "class Model(torch.nn.Module):\n",
        "    def __init__(self, X, labels, kernelType, featureDim1 = 1, featureDim2 = 1, gamma = 1, pow = 2):\n",
        "        super().__init__()\n",
        "        self.X = X;\n",
        "        self.labels = labels\n",
        "        self.kernelType = kernelType\n",
        "  \n",
        "        self.k = None\n",
        "        if(kernelType == 'linear'):\n",
        "          self.k = self.X \n",
        "          self.linearLayer = torch.nn.Linear(featureDim1, 1);\n",
        "        elif(kernelType == 'rbf'):\n",
        "          self.k = self.X.repeat(self.X.size(0), 1, 1)\n",
        "          self.k = rbf(self.X, self.k, 1) \n",
        "          self.gamma = torch.nn.Parameter(torch.FloatTensor([gamma]),\n",
        "                                                  requires_grad=True)\n",
        "          self.linearLayer = torch.nn.Linear(X.size(0), 1);\n",
        "        elif(kernelType == 'poly'):\n",
        "          self.k = poly(X,1,2)\n",
        "          self.linearLayer = torch.nn.Linear(int(comb(X.size(1) + 2, 2 )), 1);\n",
        "\n",
        "\n",
        "    def forward(self, X):\n",
        "        return self.linearLayer(self.k);\n",
        "        "
      ],
      "metadata": {
        "id": "09uOZ2UeSqpH"
      },
      "execution_count": null,
      "outputs": []
    },
    {
      "cell_type": "code",
      "source": [
        "\n",
        "#Criteria\n",
        "svm_loss_criteria_linear = torch.nn.BCELoss()\n",
        "svm_loss_criteria_rbf = torch.nn.BCELoss()\n",
        "svm_loss_criteria_poly = torch.nn.BCELoss()\n"
      ],
      "metadata": {
        "id": "mLAwG78sYFuJ"
      },
      "execution_count": null,
      "outputs": []
    },
    {
      "cell_type": "code",
      "source": [
        "##Model\n",
        "polyModel = Model(X_train, Y_train, 'poly', X.size(0), 1, 1,3)\n",
        "linearModel = Model(X_train, Y_train, 'linear', X.size(1), 1)\n",
        "rbfModel = Model(X_train, Y_train, 'rbf', X.size(0), 1,)\n"
      ],
      "metadata": {
        "colab": {
          "base_uri": "https://localhost:8080/"
        },
        "id": "LPqRn9ohYq3c",
        "outputId": "e2926a28-e3cc-4ca4-f517-c2b3800d2938"
      },
      "execution_count": null,
      "outputs": [
        {
          "output_type": "stream",
          "name": "stdout",
          "text": [
            "torch.Size([379, 496])\n"
          ]
        }
      ]
    },
    {
      "cell_type": "code",
      "source": [
        "#Optimizers\n",
        "polyOptim = torch.optim.SGD(polyModel.parameters(), lr=0.01)\n",
        "linearOptim = torch.optim.SGD(linearModel.parameters(), lr=0.01)\n",
        "rbfOptim = torch.optim.SGD(rbfModel.parameters(), lr=0.01)"
      ],
      "metadata": {
        "id": "w7gKrLJ7ZNFS"
      },
      "execution_count": null,
      "outputs": []
    },
    {
      "cell_type": "code",
      "source": [
        "#Accuracy Metric\n",
        "def accuracy(X, y_real, apply):\n",
        "    output = apply(X)\n",
        "    predicted = output.data >= 0\n",
        "    y_r = torch.unsqueeze(y_real,dim = 1)\n",
        "    print(torch.count_nonzero(torch.eq(predicted, y_r)),X.size(0))"
      ],
      "metadata": {
        "id": "UYs1Vb0qZm-4"
      },
      "execution_count": null,
      "outputs": []
    },
    {
      "cell_type": "code",
      "source": [
        "print('Linear Accuracy') \n",
        "accuracy(X_train, Y_train, linearModel)\n",
        "print('Poly Accuracy') \n",
        "accuracy(X_train, Y_train, polyModel)\n",
        "print('RBF Accuracy')\n",
        "accuracy(X_train, Y_train, rbfModel)"
      ],
      "metadata": {
        "colab": {
          "base_uri": "https://localhost:8080/"
        },
        "id": "pA1ARBoBZ0go",
        "outputId": "db789477-9063-4e3c-ad1b-95e8ec391d4e"
      },
      "execution_count": null,
      "outputs": [
        {
          "output_type": "stream",
          "name": "stdout",
          "text": [
            "Linear Accuracy\n",
            "tensor(240) 379\n",
            "Poly Accuracy\n",
            "tensor(6) 379\n",
            "RBF Accuracy\n",
            "tensor(123) 379\n"
          ]
        }
      ]
    },
    {
      "cell_type": "code",
      "source": [
        "for i in range(5000):\n",
        "    linearOptim.zero_grad();\n",
        "    output = linearModel(X_train);\n",
        "    loss = hinge_loss(output,Y_train)\n",
        "    loss.backward()\n",
        "    linearOptim.step();\n",
        "    if(i % 500 == 0):\n",
        "        print(i, loss.item(), 'linear')\n",
        "        accuracy(X_train, Y_train, linearModel)\n",
        "print('---------------------------------------')\n",
        "for i in range(5000):\n",
        "    rbfOptim.zero_grad();\n",
        "    output = rbfModel(X_train);\n",
        "    loss = hinge_loss(output, Y_train)\n",
        "    loss.backward()\n",
        "    rbfOptim.step();\n",
        "    if(i % 500 == 0):\n",
        "        print(i, loss.item(), 'rbf')\n",
        "        accuracy(X_train, Y_train, rbfModel)\n",
        "print('---------------------------------------')\n",
        "\n",
        "for i in range(5000):\n",
        "    polyOptim.zero_grad();\n",
        "    output = polyModel(X_train);\n",
        "    loss = hinge_loss(output, Y_train)\n",
        "    loss.backward()\n",
        "    polyOptim.step();\n",
        "    if(i % 500 == 0):\n",
        "        print(i, loss.item(), 'ply')\n",
        "        accuracy(X_train, Y_train, polyModel)\n",
        "  \n"
      ],
      "metadata": {
        "colab": {
          "base_uri": "https://localhost:8080/"
        },
        "id": "FNYUmyBcbISh",
        "outputId": "d0edcb4f-530d-42ce-a113-1c31f41e5f33"
      },
      "execution_count": null,
      "outputs": [
        {
          "output_type": "stream",
          "name": "stdout",
          "text": [
            "0 33.774513244628906 linear\n",
            "tensor(0) 379\n",
            "500 1767.7705078125 linear\n",
            "tensor(240) 379\n",
            "1000 1355.8411865234375 linear\n",
            "tensor(240) 379\n",
            "1500 1961.2047119140625 linear\n",
            "tensor(240) 379\n",
            "2000 297.4643859863281 linear\n",
            "tensor(0) 379\n",
            "2500 2360.30419921875 linear\n",
            "tensor(240) 379\n",
            "3000 1379.4532470703125 linear\n",
            "tensor(0) 379\n",
            "3500 492.12176513671875 linear\n",
            "tensor(240) 379\n",
            "4000 2461.4423828125 linear\n",
            "tensor(240) 379\n",
            "4500 797.7019653320312 linear\n",
            "tensor(0) 379\n",
            "---------------------------------------\n",
            "0 0.9998085498809814 rbf\n",
            "tensor(133) 379\n",
            "500 0.7407581210136414 rbf\n",
            "tensor(240) 379\n",
            "1000 0.7395678758621216 rbf\n",
            "tensor(240) 379\n",
            "1500 0.7385267615318298 rbf\n",
            "tensor(240) 379\n",
            "2000 0.7375572919845581 rbf\n",
            "tensor(240) 379\n",
            "2500 0.7368499636650085 rbf\n",
            "tensor(240) 379\n",
            "3000 0.7361395359039307 rbf\n",
            "tensor(240) 379\n",
            "3500 0.7354435920715332 rbf\n",
            "tensor(240) 379\n",
            "4000 0.7349434494972229 rbf\n",
            "tensor(240) 379\n",
            "4500 0.7345354557037354 rbf\n",
            "tensor(240) 379\n",
            "---------------------------------------\n",
            "0 3621.232421875 ply\n",
            "tensor(240) 379\n",
            "500 138391888.0 ply\n",
            "tensor(240) 379\n",
            "1000 3191923200.0 ply\n",
            "tensor(240) 379\n",
            "1500 1208856064.0 ply\n",
            "tensor(0) 379\n",
            "2000 1336766848.0 ply\n",
            "tensor(240) 379\n",
            "2500 2497863936.0 ply\n",
            "tensor(240) 379\n",
            "3000 514797120.0 ply\n",
            "tensor(0) 379\n",
            "3500 2367015168.0 ply\n",
            "tensor(240) 379\n",
            "4000 1716652288.0 ply\n",
            "tensor(240) 379\n",
            "4500 2843003392.0 ply\n",
            "tensor(240) 379\n"
          ]
        }
      ]
    },
    {
      "cell_type": "code",
      "source": [
        "from sklearn.svm import LinearSVC\n",
        "from sklearn import svm"
      ],
      "metadata": {
        "id": "3cxnd3KSnxBo"
      },
      "execution_count": null,
      "outputs": []
    },
    {
      "cell_type": "code",
      "source": [
        "clf = svm.SVC(C=10,kernel='rbf',random_state=9, probability=True)\n",
        "clf.fit(X_train, Y_train)\n",
        "print(clf.get_params())\n",
        "preds = clf.predict(X_train)\n",
        "predicted = output.data >= 0\n",
        "Y_check = Y_train >= 0\n",
        "print(torch.sum(predicted.view(-1).long() == Y_check),X_train.size(0))"
      ],
      "metadata": {
        "colab": {
          "base_uri": "https://localhost:8080/"
        },
        "id": "2pzQs8Drs6iZ",
        "outputId": "25c8dacd-53e7-4d6e-ee2f-8ce9e6a5457a"
      },
      "execution_count": null,
      "outputs": [
        {
          "output_type": "stream",
          "name": "stdout",
          "text": [
            "{'C': 10, 'break_ties': False, 'cache_size': 200, 'class_weight': None, 'coef0': 0.0, 'decision_function_shape': 'ovr', 'degree': 3, 'gamma': 'scale', 'kernel': 'rbf', 'max_iter': -1, 'probability': True, 'random_state': 9, 'shrinking': True, 'tol': 0.001, 'verbose': False}\n",
            "tensor(379) 379\n"
          ]
        }
      ]
    },
    {
      "cell_type": "code",
      "source": [
        "clf =  LinearSVC(random_state=0, tol=1e-05)\n",
        "clf.fit(X_train, Y_train)\n",
        "print(clf.get_params())\n",
        "preds = clf.predict(X_train)\n",
        "predicted = output.data >= 0\n",
        "Y_check = Y_train >= 0\n",
        "print(torch.sum(predicted.view(-1).long() == Y_check),X_train.size(0))"
      ],
      "metadata": {
        "colab": {
          "base_uri": "https://localhost:8080/"
        },
        "id": "Lc5Th0wMtmPI",
        "outputId": "bc0bd830-4cb8-4a4d-83b6-61702e0cfb33"
      },
      "execution_count": null,
      "outputs": [
        {
          "output_type": "stream",
          "name": "stdout",
          "text": [
            "{'C': 1.0, 'class_weight': None, 'dual': True, 'fit_intercept': True, 'intercept_scaling': 1, 'loss': 'squared_hinge', 'max_iter': 1000, 'multi_class': 'ovr', 'penalty': 'l2', 'random_state': 0, 'tol': 1e-05, 'verbose': 0}\n",
            "tensor(379) 379\n"
          ]
        },
        {
          "output_type": "stream",
          "name": "stderr",
          "text": [
            "/usr/local/lib/python3.7/dist-packages/sklearn/svm/_base.py:1208: ConvergenceWarning: Liblinear failed to converge, increase the number of iterations.\n",
            "  ConvergenceWarning,\n"
          ]
        }
      ]
    },
    {
      "cell_type": "code",
      "source": [],
      "metadata": {
        "id": "FBEyGl12o1ao"
      },
      "execution_count": null,
      "outputs": []
    },
    {
      "cell_type": "code",
      "source": [
        "grid_x, grid_y = torch.meshgrid(torch.arange(X_train.min()*1.1, X_train.max()*1.1, step=0.1),\n",
        "                                torch.arange(X_train.min()*1.1, X_train.max()*1.1, step=0.1))\n",
        "x_test = torch.stack((grid_x, grid_y)).reshape(2, -1).transpose(1,0)\n",
        "\n",
        "y_test_linear = linearModel(x_test).detach()\n",
        "print(y_test_linear.shape)\n",
        "y_test_linear = y_test_linear.transpose(1,0).reshape(grid_x.shape).numpy()\n",
        "print(y_test_linear.shape)\n",
        "# fig, ax = plt.subplots(1,2, figsize=(8,3))\n",
        "\n",
        "# cs0 = ax[0].contourf(grid_x.numpy(), grid_y.numpy(), y_test_linear)\n",
        "# ax[0].contour(cs0, '--', levels=[0], colors='tab:green', linewidths=2)\n",
        "# ax[0].plot(np.nan, label='decision boundary', color='tab:green')\n",
        "# ax[0].scatter(x[np.where(y==-1),0], x[np.where(y==-1),1])\n",
        "# ax[0].scatter(x[np.where(y==1),0], x[np.where(y==1),1])\n",
        "# ax[0].legend()\n",
        "# ax[0].set_title('Linear Kernel')\n",
        "\n",
        "# cs1 = ax[1].contourf(grid_x.numpy(), grid_y.numpy(), y_test_kernel)\n",
        "# cs11 = ax[1].contour(cs1, '--', levels=[0], colors='tab:green', linewidths=2)\n",
        "# ax[1].plot(np.nan, label='decision boundary', color='tab:green')\n",
        "# ax[1].scatter(x[np.where(y==-1),0], x[np.where(y==-1),1])\n",
        "# ax[1].scatter(x[np.where(y==1),0], x[np.where(y==1),1])\n",
        "# ax[1].set_title('RBF Kernel')\n",
        "\n",
        "# fig.subplots_adjust(wspace=0.2, hspace=0.1,right=0.8)\n",
        "# cbar_ax = fig.add_axes([0.82, 0.13, 0.02, 0.67])\n",
        "# cbar = fig.colorbar(cs1, cax=cbar_ax)\n",
        "# cbar.add_lines(cs11)"
      ],
      "metadata": {
        "colab": {
          "base_uri": "https://localhost:8080/"
        },
        "id": "nIsd31ZcykAW",
        "outputId": "ff4f9544-e256-4079-c577-9be3dbeee368"
      },
      "execution_count": null,
      "outputs": [
        {
          "output_type": "stream",
          "name": "stderr",
          "text": [
            "/usr/local/lib/python3.7/dist-packages/torch/functional.py:478: UserWarning: torch.meshgrid: in an upcoming release, it will be required to pass the indexing argument. (Triggered internally at  ../aten/src/ATen/native/TensorShape.cpp:2894.)\n",
            "  return _VF.meshgrid(tensors, **kwargs)  # type: ignore[attr-defined]\n"
          ]
        }
      ]
    },
    {
      "cell_type": "code",
      "source": [],
      "metadata": {
        "id": "u5tRBydxhugP"
      },
      "execution_count": null,
      "outputs": []
    }
  ]
}